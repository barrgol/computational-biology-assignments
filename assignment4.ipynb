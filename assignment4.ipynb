{
 "cells": [
  {
   "cell_type": "code",
   "execution_count": 3,
   "metadata": {},
   "outputs": [],
   "source": [
    "import numpy as np\n",
    "import matplotlib.pyplot as plt\n",
    "import os\n",
    "\n",
    "from matplotlib.colors import ListedColormap"
   ]
  },
  {
   "cell_type": "code",
   "execution_count": 4,
   "metadata": {},
   "outputs": [
    {
     "name": "stdout",
     "output_type": "stream",
     "text": [
      "Setup complete\n"
     ]
    }
   ],
   "source": [
    "np.random.seed(42)\n",
    "\n",
    "NAME = 'assignment4'\n",
    "DATA_PATH = f'data/{NAME}'\n",
    "MEDIA_PATH = f'media/{NAME}'\n",
    "[os.makedirs(path, exist_ok=True) for path in [DATA_PATH, MEDIA_PATH]]\n",
    "print('Setup complete')"
   ]
  },
  {
   "cell_type": "markdown",
   "metadata": {},
   "source": [
    "# Ising Model"
   ]
  },
  {
   "cell_type": "code",
   "execution_count": 5,
   "metadata": {},
   "outputs": [],
   "source": [
    "# Declare parameters\n",
    "#---------------------------------------\n",
    "n_steps = 10001\n",
    "nx = 40\n",
    "T = 1\n",
    "k = 0.5\n",
    "\n",
    "# Create initial grid\n",
    "grid_0 = np.zeros((nx + 2, nx + 2))\n",
    "grid_0[1:-1, 1:-1] = np.random.choice([-1, 1], (nx,nx))\n",
    "\n",
    "\n",
    "def Ising_model(J):\n",
    "    # Create grid\n",
    "    grid = grid_0.copy()\n",
    "    \n",
    "    # Create list to store Magnetization modulus\n",
    "    M = np.zeros(n_steps + 1)\n",
    "    \n",
    "    for step in range(n_steps):\n",
    "        \n",
    "        # Randomly choose lattice site \n",
    "        M[step:] += abs(np.sum(grid))\n",
    "        i, j = np.random.randint(1, 41, 2)\n",
    "\n",
    "        # Hamiltonian\n",
    "        H = J*(grid[i - 1, j] + grid[i + 1, j] + grid[i, j - 1] + grid[i, j + 1])\n",
    "        \n",
    "        # Probability\n",
    "        P = np.exp(-H*2*grid[i, j])\n",
    "\n",
    "        # Update grid\n",
    "        if P > np.random.sample():\n",
    "            grid[i, j] = -grid[i, j]\n",
    "\n",
    "    # Create figures        \n",
    "    fig = plt.figure(facecolor='w', figsize=(12,4), dpi=80)\n",
    " \n",
    "    ax = plt.subplot2grid((1, 3), (0, 0), colspan=2)\n",
    "    ax.plot( M/(np.arange(1,n_steps+2)*(nx*nx)) , 'brown')\n",
    "    ax.grid(b=True, which='major', c='k', alpha=0.2)\n",
    "    ax.set_xlabel('n')\n",
    "    ax.set_ylabel('<|M|>')\n",
    "    ax.set_title('Magnetization modulus for J = %d' % J)\n",
    "    \n",
    "    ax = plt.subplot2grid((1, 3), (0, 2))\n",
    "    ax.matshow(grid[1:-1, 1:-1], cmap = 'hot')\n",
    "    ax.set_title('n = %i' % n_steps)\n",
    "    ax.axis('off')\n",
    "    \n",
    "    plt.tight_layout()\n",
    "    plt.show()\n",
    "    "
   ]
  },
  {
   "cell_type": "markdown",
   "metadata": {},
   "source": [
    "# Cellular Pots model"
   ]
  },
  {
   "cell_type": "code",
   "execution_count": 90,
   "metadata": {},
   "outputs": [],
   "source": [
    "def kronecker_delta(i, j):\n",
    "    return np.equal(i, j).astype(int)\n",
    "\n",
    "def celltype_function(sigma, N_TYPES):\n",
    "    return (np.mod(sigma, N_TYPES) + 1) * np.minimum(sigma + 1, 1)\n",
    "\n",
    "def Cellular_Potts_model(\n",
    "        J,                  # interaction strength matrix (NOTE: extra dimension for interaction with the fluid)\n",
    "        A,                  # equilibrium areas (NOTE: fluid excluded, no extra dimension)\n",
    "        n_MCS = 0,          # number of Monte Carlo steps\n",
    "        T = 1,              # temperature\n",
    "    ):\n",
    "\n",
    "    N_CELLS = 120      # number of different cells (cell ids), can be nicely divided into 10 rows with 12 cells each\n",
    "    N_TYPES = 2        # number of cell types (excluding fluid medium, which is denoted with -1)\n",
    "    NX = 100           # size of the grid side\n",
    "    K = 1              # \"Boltzmann constant\"\n",
    "    LAM = 1            # lambda parameter\n",
    "\n",
    "    assert J.shape == (N_TYPES + 1, N_TYPES + 1), f\"Received: {J.shape}, Expected: {(N_TYPES + 1, N_TYPES + 1)}\"\n",
    "    assert A.shape == (N_TYPES + 1, )\n",
    "    assert T > 0\n",
    "\n",
    "    # Monte Carlo step as defined in the paper\n",
    "    MCS = 16 * NX**2\n",
    "\n",
    "    # Type-recognizing function\n",
    "    celltype = lambda sigma : celltype_function(sigma, N_TYPES)\n",
    "\n",
    "    # Create grid of cell ids with continuous boundaries, with cell types (except the fluid)\n",
    "    # arranged in rectangles composing a larger square in the middle, with fluid around it\n",
    "    # (see paper II.D3. Initial conditions)\n",
    "    # NOTE: This is a hardcoded part working for this specific no. of cells and grid size\n",
    "    grid = (-1) * np.ones((NX, NX), dtype=int)\n",
    "    assign_order = np.random.permutation(N_CELLS)\n",
    "    ysteps = np.linspace(25, 75, 11, dtype=int)\n",
    "\n",
    "    for (i, y) in enumerate(ysteps[:-1]):\n",
    "        xsteps = sorted(np.random.choice(range(26, 74), 11, replace=False))\n",
    "        xsteps = np.insert(xsteps, 0, 25)\n",
    "        xsteps = np.append(xsteps, 75)\n",
    "\n",
    "        for (j, x) in enumerate(xsteps[:-1]):\n",
    "            grid[y:ysteps[i+1], x:xsteps[j+1]] = assign_order[i*12 + j]\n",
    "\n",
    "    # Store cell areas\n",
    "    _, areas = np.unique(grid, return_counts=True)\n",
    "\n",
    "    # Neighborhoods\n",
    "    von_neumann_neighbourhood = np.array([[-1, 0], [0, -1], [0, 1], [1, 0]])\n",
    "    moore_neighborhood = np.array([(-1, -1), (0, -1), (1, -1), (1, 0), (1, 1), (0, 1), (-1, 1), (-1, 0)])\n",
    "    \n",
    "    for _ in range(n_MCS):\n",
    "        for step in range(MCS):\n",
    "            \n",
    "            # Calculate magnetization\n",
    "            # M[step:] += abs(np.sum(grid))\n",
    "\n",
    "            # Randomly choose lattice site \n",
    "            i, j = np.random.randint(0, NX, 2)\n",
    "            sigma = grid[i,j]\n",
    "            tau = celltype(sigma)\n",
    "\n",
    "            # Randomly choose a neighbour\n",
    "            ip, jp = von_neumann_neighbourhood[np.random.randint(4)]\n",
    "            iprime, jprime = (i + ip) % NX, (j + jp) % NX\n",
    "\n",
    "            sigma_prime = grid[iprime, jprime]\n",
    "            tau_prime = celltype(sigma_prime)\n",
    "\n",
    "            # Change in volumetric energy\n",
    "            a_sigma = areas[sigma]\n",
    "            a_sigma_prime = areas[sigma_prime]\n",
    "\n",
    "            A_sigma = A[tau]\n",
    "            A_sigma_prime = A[tau_prime]\n",
    "\n",
    "            delta_Hvol = -1\n",
    "            if sigma == sigma_prime:\n",
    "                delta_Hvol = 0\n",
    "            elif (sigma != 0 and sigma_prime != 0):\n",
    "                delta_Hvol = LAM * (((a_sigma - 1 - A_sigma)**2 + (a_sigma_prime + 1 - A_sigma_prime)**2) -\n",
    "                                    ((a_sigma - A_sigma)**2 + (a_sigma_prime - A_sigma_prime)**2))\n",
    "            elif (sigma == 0):\n",
    "                delta_Hvol = LAM * ((a_sigma_prime + 1 - A_sigma_prime)**2 -\n",
    "                                    (a_sigma_prime - A_sigma_prime)**2)\n",
    "            elif (sigma_prime == 0):\n",
    "                delta_Hvol = LAM * ((a_sigma - 1 - A_sigma)**2 -\n",
    "                                    (a_sigma - A_sigma)**2)\n",
    "            \n",
    "            # Change in bond energy\n",
    "            x = (i + moore_neighborhood[:,0]) % NX\n",
    "            y = (j + moore_neighborhood[:,1]) % NX\n",
    "            sum_prime = np.sum(J[tau_prime, celltype(grid[x, y])] * (1 - kronecker_delta(sigma_prime, grid[x, y])))\n",
    "            sum_orig = np.sum(J[tau, celltype(grid[x, y])] * (1 - kronecker_delta(sigma, grid[x, y])))\n",
    "            delta_Hbond = sum_prime - sum_orig\n",
    "            \n",
    "            # Total change\n",
    "            H = delta_Hvol + delta_Hbond\n",
    "            \n",
    "            P = np.exp(-H/(K*T))\n",
    "\n",
    "            # Update grid\n",
    "            if H <= 0 or P > np.random.sample():\n",
    "                grid[i, j] = grid[iprime, jprime]\n",
    "                areas[sigma] -= 1\n",
    "                areas[sigma_prime] += 1\n",
    "\n",
    "    return grid"
   ]
  },
  {
   "cell_type": "code",
   "execution_count": 31,
   "metadata": {},
   "outputs": [
    {
     "name": "stdout",
     "output_type": "stream",
     "text": [
      "[25 27 30 32 35 37 40 42 45 47 50 52 55 57 60 62 65 67 70 72 75]\n"
     ]
    }
   ],
   "source": [
    "print(np.linspace(25, 75, 21, dtype=int))"
   ]
  },
  {
   "cell_type": "code",
   "execution_count": 138,
   "metadata": {},
   "outputs": [],
   "source": [
    "def plot_cellular_potts(ax, grid, n_types, n_MCS):\n",
    "\n",
    "    # Type-recognizing function\n",
    "    celltype = lambda sigma : celltype_function(sigma, n_types)\n",
    "\n",
    "    # Yeah it will only work for two cell types + surrounding fluid\n",
    "    celltype_grid = celltype(grid)\n",
    "    cmap = ListedColormap(['cyan', 'dimgray', 'gold'])\n",
    "    ax.matshow(celltype_grid, cmap=cmap)\n",
    "\n",
    "    # Draw cell boundaries\n",
    "    for (i, _) in enumerate(grid):\n",
    "        for (j, _) in enumerate(grid[i,:-1]):\n",
    "            # Vertical checking\n",
    "            if (i + 1 != grid.shape[0] and grid[i, j] != grid[i+1, j]):\n",
    "                plt.plot([j-0.5, j+0.5], [i+0.5, i+0.5], c=\"black\", lw=1.5)\n",
    "\n",
    "            # Horizontal checking\n",
    "            if (j + 1 != grid[0].shape[0] and grid[i, j] != grid[i, j+1]):\n",
    "                plt.plot([j+0.5, j+0.5], [i-0.5, i+0.5], c=\"black\", lw=1.5)\n",
    "\n",
    "    # Set the title\n",
    "    nsteps = 16 * n_MCS * grid.shape[0]**2\n",
    "    ax.set_title('n = %i' % nsteps)\n",
    "\n",
    "    # Turn off the axis\n",
    "    # ax.axis('off')"
   ]
  },
  {
   "cell_type": "code",
   "execution_count": 47,
   "metadata": {},
   "outputs": [],
   "source": [
    "# Properly declare parameters that actually can be passed to the function\n",
    "#---------------------------------------\n",
    "\n",
    "# Cell type equilibrium areas\n",
    "A = np.zeros(3)\n",
    "\n",
    "# Based on section II.B1. in the paper, adjusted to our grid size (100 x 100)\n",
    "A[1] = 20\n",
    "A[2] = 20\n",
    "\n",
    "# Based on section III.A2. in the paper\n",
    "J_MM = 0\n",
    "J_ll = 10\n",
    "J_dd = 8\n",
    "J_ld = 6\n",
    "J_lM = 12\n",
    "J_dM = 12\n",
    "\n",
    "T = 10\n",
    "lam = 1\n",
    "\n",
    "# 0: the surrounding fluid (M in the paper)\n",
    "# 1: low surface energy 'dark' cells (d in the paper)\n",
    "# 2: high surface energy 'light' cells (l in the paper)\n",
    "J = np.array([\n",
    "    [J_MM, J_dM, J_lM,],\n",
    "    [J_dM, J_dd, J_ld,],\n",
    "    [J_lM, J_ld, J_ll,],\n",
    "])\n",
    "\n",
    "# Other simulation parameters\n",
    "n_MCS = 0\n",
    "k = 1"
   ]
  },
  {
   "cell_type": "code",
   "execution_count": 140,
   "metadata": {},
   "outputs": [
    {
     "data": {
      "image/png": "[encoded data removed]",
      "text/plain": [
       "<Figure size 1200x600 with 2 Axes>"
      ]
     },
     "metadata": {},
     "output_type": "display_data"
    }
   ],
   "source": [
    "# Create figure        \n",
    "fig = plt.figure(facecolor='w', figsize=(15,7.5), dpi=80)\n",
    "fig.tight_layout()\n",
    "ax = plt.subplot2grid((1, 2), (0, 0))\n",
    "n_MCS = 0\n",
    "\n",
    "# Simulate\n",
    "cell_ids = Cellular_Potts_model(J, A, n_MCS, T)\n",
    "plot_cellular_potts(ax, cell_ids, 2, n_MCS)\n",
    "\n",
    "ax = plt.subplot2grid((1, 2), (0, 1))\n",
    "n_MCS = 2\n",
    "\n",
    "# Simulate\n",
    "cell_ids = Cellular_Potts_model(J, A, n_MCS, T)\n",
    "plot_cellular_potts(ax, cell_ids, 2, n_MCS)"
   ]
  },
  {
   "cell_type": "code",
   "execution_count": 137,
   "metadata": {},
   "outputs": [
    {
     "data": {
      "image/png": "[encoded data removed]",
      "text/plain": [
       "<Figure size 480x480 with 1 Axes>"
      ]
     },
     "metadata": {},
     "output_type": "display_data"
    }
   ],
   "source": [
    "np.random.seed(42)\n",
    "\n",
    "xx = np.array([\n",
    "    [0, 0, 0, 0, 1], \n",
    "    [2, 0, 0, 1, 1], \n",
    "    [2, 0, 2, 1, 1], \n",
    "    [2, 2, 2, 1, 1], \n",
    "    [2, 2, 2, 2, 1], \n",
    "])\n",
    "\n",
    "cmap = ListedColormap(['cyan', 'dimgray', 'gold'])\n",
    "plt.matshow(xx, cmap=cmap)\n",
    "# plt.axis('off')\n",
    "\n",
    "NX = 5\n",
    "\n",
    "for (i, y) in enumerate(xx):\n",
    "    for (j, x) in enumerate(xx[i,:-1]):\n",
    "        # Vertical checking\n",
    "        if (i + 1 != xx.shape[0] and xx[i, j] != xx[i+1, j]):\n",
    "            plt.plot([j-0.5, j+0.5], [i+0.5, i+0.5], c=\"black\", lw=1.5)\n",
    "\n",
    "        # Horizontal checking\n",
    "        if (j + 1 != xx[0].shape[0] and xx[i, j] != xx[i, j+1]):\n",
    "            plt.plot([j+0.5, j+0.5], [i-0.5, i+0.5], c=\"black\", lw=1.5)\n",
    "\n",
    "plt.show()"
   ]
  },
  {
   "cell_type": "code",
   "execution_count": null,
   "metadata": {},
   "outputs": [],
   "source": []
  }
 ],
 "metadata": {
  "kernelspec": {
   "display_name": "Python 3",
   "language": "python",
   "name": "python3"
  },
  "language_info": {
   "codemirror_mode": {
    "name": "ipython",
    "version": 3
   },
   "file_extension": ".py",
   "mimetype": "text/x-python",
   "name": "python",
   "nbconvert_exporter": "python",
   "pygments_lexer": "ipython3",
   "version": "3.10.4"
  }
 },
 "nbformat": 4,
 "nbformat_minor": 2
}
